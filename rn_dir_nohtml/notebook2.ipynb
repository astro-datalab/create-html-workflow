{
 "cells": [
  {
   "cell_type": "code",
   "execution_count": 1,
   "id": "7d84c723-e555-4898-b1a6-6eabe3540756",
   "metadata": {
    "execution": {
     "iopub.execute_input": "2024-06-20T18:18:29.331456Z",
     "iopub.status.busy": "2024-06-20T18:18:29.328266Z",
     "iopub.status.idle": "2024-06-20T18:18:31.344602Z",
     "shell.execute_reply": "2024-06-20T18:18:31.343535Z",
     "shell.execute_reply.started": "2024-06-20T18:18:29.331302Z"
    }
   },
   "outputs": [],
   "source": [
    "from dl import queryClient as qc\n",
    "import pylab as plt"
   ]
  },
  {
   "cell_type": "code",
   "execution_count": 2,
   "id": "3123a0d3-f042-4272-a64f-d7665168e265",
   "metadata": {
    "execution": {
     "iopub.execute_input": "2024-06-20T18:18:31.347805Z",
     "iopub.status.busy": "2024-06-20T18:18:31.347040Z",
     "iopub.status.idle": "2024-06-20T18:18:32.125621Z",
     "shell.execute_reply": "2024-06-20T18:18:32.124700Z",
     "shell.execute_reply.started": "2024-06-20T18:18:31.347758Z"
    }
   },
   "outputs": [],
   "source": [
    "df = qc.query(\"select bp_g, bp_rp from gaia_dr3.gaia_source where random_id between 10 and 11 limit 1000\",fmt='pandas')"
   ]
  },
  {
   "cell_type": "code",
   "execution_count": 3,
   "id": "3a7d5874-2591-46d0-9463-f54dd4bc3175",
   "metadata": {
    "execution": {
     "iopub.execute_input": "2024-06-20T18:18:32.127612Z",
     "iopub.status.busy": "2024-06-20T18:18:32.126973Z",
     "iopub.status.idle": "2024-06-20T18:18:32.233456Z",
     "shell.execute_reply": "2024-06-20T18:18:32.219154Z",
     "shell.execute_reply.started": "2024-06-20T18:18:32.127558Z"
    }
   },
   "outputs": [
    {
     "data": {
      "text/html": [
       "<div>\n",
       "<style scoped>\n",
       "    .dataframe tbody tr th:only-of-type {\n",
       "        vertical-align: middle;\n",
       "    }\n",
       "\n",
       "    .dataframe tbody tr th {\n",
       "        vertical-align: top;\n",
       "    }\n",
       "\n",
       "    .dataframe thead th {\n",
       "        text-align: right;\n",
       "    }\n",
       "</style>\n",
       "<table border=\"1\" class=\"dataframe\">\n",
       "  <thead>\n",
       "    <tr style=\"text-align: right;\">\n",
       "      <th></th>\n",
       "      <th>bp_g</th>\n",
       "      <th>bp_rp</th>\n",
       "    </tr>\n",
       "  </thead>\n",
       "  <tbody>\n",
       "    <tr>\n",
       "      <th>0</th>\n",
       "      <td>0.731220</td>\n",
       "      <td>1.619532</td>\n",
       "    </tr>\n",
       "    <tr>\n",
       "      <th>1</th>\n",
       "      <td>0.355858</td>\n",
       "      <td>0.908396</td>\n",
       "    </tr>\n",
       "    <tr>\n",
       "      <th>2</th>\n",
       "      <td>1.586737</td>\n",
       "      <td>2.742708</td>\n",
       "    </tr>\n",
       "    <tr>\n",
       "      <th>3</th>\n",
       "      <td>1.126173</td>\n",
       "      <td>1.927273</td>\n",
       "    </tr>\n",
       "    <tr>\n",
       "      <th>4</th>\n",
       "      <td>0.903326</td>\n",
       "      <td>1.855025</td>\n",
       "    </tr>\n",
       "  </tbody>\n",
       "</table>\n",
       "</div>"
      ],
      "text/plain": [
       "       bp_g     bp_rp\n",
       "0  0.731220  1.619532\n",
       "1  0.355858  0.908396\n",
       "2  1.586737  2.742708\n",
       "3  1.126173  1.927273\n",
       "4  0.903326  1.855025"
      ]
     },
     "execution_count": 3,
     "metadata": {},
     "output_type": "execute_result"
    }
   ],
   "source": [
    "df.head()"
   ]
  },
  {
   "cell_type": "code",
   "execution_count": 4,
   "id": "c90502bc-54b9-4233-8387-3b585eb96e1b",
   "metadata": {
    "execution": {
     "iopub.execute_input": "2024-06-20T18:18:32.859249Z",
     "iopub.status.busy": "2024-06-20T18:18:32.857059Z",
     "iopub.status.idle": "2024-06-20T18:18:33.284067Z",
     "shell.execute_reply": "2024-06-20T18:18:33.282572Z",
     "shell.execute_reply.started": "2024-06-20T18:18:32.859080Z"
    }
   },
   "outputs": [
    {
     "data": {
      "text/plain": [
       "<matplotlib.collections.PathCollection at 0x7f58da2299f0>"
      ]
     },
     "execution_count": 4,
     "metadata": {},
     "output_type": "execute_result"
    },
    {
     "data": {
      "image/png": "[encoded data removed]",
      "text/plain": [
       "<Figure size 640x480 with 1 Axes>"
      ]
     },
     "metadata": {},
     "output_type": "display_data"
    }
   ],
   "source": [
    "plt.scatter(df['bp_g'],df['bp_rp'],s=3,color='b',alpha=0.5)"
   ]
  },
  {
   "cell_type": "markdown",
   "id": "6e18890f-a89f-4357-9787-c7e3fc922174",
   "metadata": {},
   "source": [
    "# Test 2: add this cell"
   ]
  },
  {
   "cell_type": "markdown",
   "id": "bddce9c4-ec8f-4c95-9c8b-6f8ff22a8b14",
   "metadata": {},
   "source": [
    "# Add another cell"
   ]
  },
  {
   "cell_type": "code",
   "execution_count": null,
   "id": "1647304d-3f80-4147-8653-e621f301908b",
   "metadata": {},
   "outputs": [],
   "source": []
  }
 ],
 "metadata": {
  "kernelspec": {
   "display_name": "Python 3 (ipykernel)",
   "language": "python",
   "name": "python3"
  },
  "language_info": {
   "codemirror_mode": {
    "name": "ipython",
    "version": 3
   },
   "file_extension": ".py",
   "mimetype": "text/x-python",
   "name": "python",
   "nbconvert_exporter": "python",
   "pygments_lexer": "ipython3",
   "version": "3.10.14"
  }
 },
 "nbformat": 4,
 "nbformat_minor": 5
}
